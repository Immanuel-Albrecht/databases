{
 "cells": [
  {
   "cell_type": "code",
   "execution_count": 2,
   "metadata": {},
   "outputs": [
    {
     "data": {
      "text/plain": []
     },
     "execution_count": 2,
     "metadata": {},
     "output_type": "execute_result"
    }
   ],
   "source": [
    "#from gx import *\n",
    "import pymysql\n",
    "import pymysql.cursors\n",
    "\n",
    "def insert_weakly_connected(list, session=\"CANONICAL\", erase_session=False, start_id=0):\n",
    "    \"\"\" (list,   session, erase_session, start_id)\n",
    "    \n",
    "    \n",
    "        list __ list of weakly connected digraphs\n",
    "        \n",
    "        optional arguments:\n",
    "            \n",
    "            session         text string identifying this session\n",
    "            erase_session   set to true in order to drop all elements from this session\n",
    "            start_id        starting graph id\n",
    "    \"\"\"\n",
    "    mysql = pymysql.connect(host=\"127.0.0.1\",user=\"digraphs\",password=\"xxxxxxxxxxx\",use_unicode=True,database=\"digraphs\")\n",
    "    cur = mysql.cursor()\n",
    "    if erase_session:\n",
    "        print \"Erasing session data...\"\n",
    "        cur.execute(\"DELETE FROM `weakly_connected` WHERE SESSION=%s\", (session,))\n",
    "        mysql.commit()\n",
    "    id = start_id\n",
    "    for D in list:\n",
    "        arglist = []\n",
    "        cur = mysql.cursor()\n",
    "        for u,v,lbl in D.edges():\n",
    "            arglist.append((session,int(id),int(u),int(v)))\n",
    "        retry = True\n",
    "        while retry:\n",
    "            try:\n",
    "                cur.executemany(\"INSERT INTO `weakly_connected` (`SESSION`,`ID`,`U`,`V`) VALUES (%s,%s,%s,%s);\",arglist)\n",
    "                retry = False\n",
    "            except Exception,e:\n",
    "                retry = True\n",
    "                print e\n",
    "                print \"Retrying...\"\n",
    "                mysql.commit()\n",
    "                mysql.close()\n",
    "                mysql = pymysql.connect(host=\"127.0.0.1\",user=\"digraphs\",password=\"d1gr4phs\",use_unicode=True,database=\"digraphs\")\n",
    "                cur = mysql.cursor()\n",
    "                \n",
    "                \n",
    "        id += 1\n",
    "    mysql.commit()  \n",
    "    mysql.close()"
   ]
  },
  {
   "cell_type": "markdown",
   "metadata": {},
   "source": [
    "<p>In order to obtain all digraphs up to isomorphism with a bounded number of arcs; that have a single (weakly)-connected component; we start with the canonically labelled digraph with one arc, and then keep on adding arcs. All digraphs are then converted to canonically labelled.</p>\n",
    "<p> </p>\n",
    "<p><span style=\"font-family: courier new, courier;\">encountered_digraphs</span> is a list of canoncially labelled digraphs with the above properties;</p>\n",
    "<p><span style=\"font-family: courier new, courier;\">current_head</span> contains pairs <span style=\"font-family: courier new, courier;\">(D,n)</span> where <span style=\"font-family: courier new, courier;\">D</span> is a canonically labelled digraph and <span style=\"font-family: courier new, courier;\">n</span> is the maximal integer of any vertex of a new arc.</p>"
   ]
  },
  {
   "cell_type": "code",
   "execution_count": 3,
   "metadata": {},
   "outputs": [
    {
     "data": {
      "text/plain": []
     },
     "execution_count": 3,
     "metadata": {},
     "output_type": "execute_result"
    }
   ],
   "source": [
    "D0 = PathDigraph([0,1]).canonical_label().copy(immutable=True)\n",
    "encountered_digraphs = [D0]\n",
    "current_head = [(D0,2)]\n",
    "maxArcs = 10\n",
    "insert_weakly_connected(encountered_digraphs,start_id=0, erase_session=False) #set to True to have a fresh start!"
   ]
  },
  {
   "cell_type": "markdown",
   "metadata": {},
   "source": [
    "<p>Now let's iterate....</p>"
   ]
  },
  {
   "cell_type": "code",
   "execution_count": 6,
   "metadata": {},
   "outputs": [
    {
     "data": {
      "text/plain": []
     },
     "execution_count": 6,
     "metadata": {},
     "output_type": "execute_result"
    }
   ],
   "source": [
    "for nArcs in range(2,maxArcs+1):\n",
    "    print \"nArcs =\",nArcs\n",
    "    new_head = set()\n",
    "    encounters = 0\n",
    "    id0 = len(encountered_digraphs)\n",
    "    count0 = 0\n",
    "    count1 = len(current_head)\n",
    "    for D0, vMax in current_head:\n",
    "        count0 += 1\n",
    "        if count0 % 1000 == 0:\n",
    "            print count0, \"of\",count1,\" = \",float(count0*100)/count1,\"%\"\n",
    "        for u in range(vMax+1):\n",
    "            for v in range(vMax+1):\n",
    "                if u == v:\n",
    "                    continue #no loops\n",
    "                if D0.has_vertex(u) and D0.has_vertex(v) and D0.has_edge(u,v):\n",
    "                    continue #not a new arc\n",
    "                D1 = D0.copy(immutable=False)\n",
    "                D1.add_edge(u,v)\n",
    "                D1 = D1.canonical_label()\n",
    "                encounters += 1\n",
    "                new_head.add( (D1.copy(immutable=True),max([u+1,v+1,vMax])) )\n",
    "    current_head = list(new_head)\n",
    "    new_digraphs = [x[0] for x in current_head]\n",
    "    print \"Inserting into database... startid=\",id0, \" lastid=\",id0+len(new_digraphs)-1\n",
    "    insert_weakly_connected(new_digraphs,start_id=id0, erase_session=False)\n",
    "    id0 += len(new_digraphs)\n",
    "    encountered_digraphs.extend(new_digraphs)\n",
    "    print \"Total:\", len(encountered_digraphs), \"Head Size: \",len(current_head),\" Avg.Multiplicity of Discovery:\", float(encounters) / len(current_head)"
   ]
  }
 ],
 "metadata": {
  "kernelspec": {
   "display_name": "SageMath",
   "name": "sagemath"
  },
  "language": "python"
 },
 "nbformat": 4,
 "nbformat_minor": 2
}
